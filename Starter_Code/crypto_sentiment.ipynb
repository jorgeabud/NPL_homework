{
 "cells": [
  {
   "cell_type": "markdown",
   "metadata": {},
   "source": [
    "# News Headlines Sentiment\n",
    "\n",
    "Use the news api to pull the latest news articles for bitcoin and ethereum and create a DataFrame of sentiment scores for each coin. \n",
    "\n",
    "Use descriptive statistics to answer the following questions:\n",
    "1. Which coin had the highest mean positive score?\n",
    "2. Which coin had the highest negative score?\n",
    "3. Which coin had the highest positive score?"
   ]
  },
  {
   "cell_type": "code",
   "execution_count": 230,
   "metadata": {},
   "outputs": [],
   "source": [
    "# Initial imports\n",
    "import os\n",
    "import pandas as pd\n",
    "from newsapi import NewsApiClient\n",
    "from dotenv import load_dotenv\n",
    "from nltk.sentiment.vader import SentimentIntensityAnalyzer\n",
    "analyzer = SentimentIntensityAnalyzer()\n",
    "from sklearn.feature_extraction.text import CountVectorizer\n",
    "from sklearn.feature_extraction.text import TfidfVectorizer\n",
    "%matplotlib inline"
   ]
  },
  {
   "cell_type": "code",
   "execution_count": 231,
   "metadata": {},
   "outputs": [
    {
     "output_type": "execute_result",
     "data": {
      "text/plain": [
       "str"
      ]
     },
     "metadata": {},
     "execution_count": 231
    }
   ],
   "source": [
    "# Read your api key environment variable\n",
    "# YOUR CODE HERE!\n",
    "load_dotenv()\n",
    "api_key = os.getenv(\"newskey_api\")\n",
    "type(api_key)"
   ]
  },
  {
   "cell_type": "code",
   "execution_count": 232,
   "metadata": {},
   "outputs": [],
   "source": [
    "# Create a newsapi client\n",
    "# YOUR CODE HERE!\n",
    "newsapi = NewsApiClient(api_key=api_key)"
   ]
  },
  {
   "cell_type": "code",
   "execution_count": 233,
   "metadata": {},
   "outputs": [
    {
     "output_type": "stream",
     "name": "stdout",
     "text": [
      "Total articles about Bitcoin: 4450\n"
     ]
    }
   ],
   "source": [
    "# Fetch the Bitcoin news articles\n",
    "# YOUR CODE HERE!\n",
    "bitcoin_articles = newsapi.get_everything(q=\"bitcoin\", language=\"en\", sort_by=\"relevancy\")\n",
    "\n",
    "print(f\"Total articles about Bitcoin: {bitcoin_articles['totalResults']}\")"
   ]
  },
  {
   "cell_type": "code",
   "execution_count": 234,
   "metadata": {},
   "outputs": [
    {
     "output_type": "stream",
     "name": "stdout",
     "text": [
      "Total articles about Ethereum: 1223\n"
     ]
    }
   ],
   "source": [
    "# Fetch the Ethereum news articles\n",
    "# YOUR CODE HERE!\n",
    "ethereum_articles = newsapi.get_everything(q=\"ethereum\", language=\"en\", sort_by=\"relevancy\")\n",
    "\n",
    "\n",
    "print(f\"Total articles about Ethereum: {ethereum_articles['totalResults']}\")\n"
   ]
  },
  {
   "cell_type": "code",
   "execution_count": 235,
   "metadata": {},
   "outputs": [
    {
     "output_type": "execute_result",
     "data": {
      "text/plain": [
       "   compound  negative  neutral  positive  \\\n",
       "0   -0.6705     0.199    0.737     0.064   \n",
       "1    0.6369     0.000    0.838     0.162   \n",
       "2    0.2144     0.000    0.947     0.053   \n",
       "3    0.2023     0.000    0.950     0.050   \n",
       "4    0.0000     0.000    1.000     0.000   \n",
       "\n",
       "                                                text  \n",
       "0  A former Microsoft software engineer from Ukra...  \n",
       "1  Visa has partnered with cryptocurrency startup...  \n",
       "2  PayPal is bringing its newly-announced support...  \n",
       "3  In November 2017, after an absolutely massive,...  \n",
       "4  Unlike ‘conventional’ cryptocurrencies, a cent...  "
      ],
      "text/html": "<div>\n<style scoped>\n    .dataframe tbody tr th:only-of-type {\n        vertical-align: middle;\n    }\n\n    .dataframe tbody tr th {\n        vertical-align: top;\n    }\n\n    .dataframe thead th {\n        text-align: right;\n    }\n</style>\n<table border=\"1\" class=\"dataframe\">\n  <thead>\n    <tr style=\"text-align: right;\">\n      <th></th>\n      <th>compound</th>\n      <th>negative</th>\n      <th>neutral</th>\n      <th>positive</th>\n      <th>text</th>\n    </tr>\n  </thead>\n  <tbody>\n    <tr>\n      <th>0</th>\n      <td>-0.6705</td>\n      <td>0.199</td>\n      <td>0.737</td>\n      <td>0.064</td>\n      <td>A former Microsoft software engineer from Ukra...</td>\n    </tr>\n    <tr>\n      <th>1</th>\n      <td>0.6369</td>\n      <td>0.000</td>\n      <td>0.838</td>\n      <td>0.162</td>\n      <td>Visa has partnered with cryptocurrency startup...</td>\n    </tr>\n    <tr>\n      <th>2</th>\n      <td>0.2144</td>\n      <td>0.000</td>\n      <td>0.947</td>\n      <td>0.053</td>\n      <td>PayPal is bringing its newly-announced support...</td>\n    </tr>\n    <tr>\n      <th>3</th>\n      <td>0.2023</td>\n      <td>0.000</td>\n      <td>0.950</td>\n      <td>0.050</td>\n      <td>In November 2017, after an absolutely massive,...</td>\n    </tr>\n    <tr>\n      <th>4</th>\n      <td>0.0000</td>\n      <td>0.000</td>\n      <td>1.000</td>\n      <td>0.000</td>\n      <td>Unlike ‘conventional’ cryptocurrencies, a cent...</td>\n    </tr>\n  </tbody>\n</table>\n</div>"
     },
     "metadata": {},
     "execution_count": 235
    }
   ],
   "source": [
    "# Create the Bitcoin sentiment scores DataFrame\n",
    "# YOUR CODE HERE!\n",
    "bitcoin_sentiments = []\n",
    "\n",
    "for article in bitcoin_articles[\"articles\"]:\n",
    "    try:\n",
    "        text = article[\"content\"]\n",
    "        date = article[\"publishedAt\"][:10]\n",
    "        sentiment = analyzer.polarity_scores(text)\n",
    "        compound = sentiment[\"compound\"]\n",
    "        pos = sentiment[\"pos\"]\n",
    "        neu = sentiment[\"neu\"]\n",
    "        neg = sentiment[\"neg\"]\n",
    "        \n",
    "        bitcoin_sentiments.append({\n",
    "            \"text\": text,\n",
    "            \"date\": date,\n",
    "            \"compound\": compound,\n",
    "            \"positive\": pos,\n",
    "            \"negative\": neg,\n",
    "            \"neutral\": neu\n",
    "            \n",
    "        })\n",
    "        \n",
    "    except AttributeError:\n",
    "        pass\n",
    "\n",
    "bitcoin_df = pd.DataFrame(bitcoin_sentiments)  \n",
    "\n",
    "cols = [\"compound\", \"negative\", \"neutral\", \"positive\", \"text\"]\n",
    "\n",
    "bitcoin_df = bitcoin_df[cols]\n",
    "\n",
    "bitcoin_df.head()"
   ]
  },
  {
   "cell_type": "code",
   "execution_count": 236,
   "metadata": {},
   "outputs": [
    {
     "output_type": "execute_result",
     "data": {
      "text/plain": [
       "   compound  negative  neutral  positive  \\\n",
       "0    0.2144       0.0    0.947     0.053   \n",
       "1    0.0000       0.0    1.000     0.000   \n",
       "2    0.4215       0.0    0.912     0.088   \n",
       "3    0.0000       0.0    1.000     0.000   \n",
       "4    0.1779       0.0    0.948     0.052   \n",
       "\n",
       "                                                text  \n",
       "0  PayPal is bringing its newly-announced support...  \n",
       "1  FILE PHOTO: Representation of the Ethereum vir...  \n",
       "2  LONDON (Reuters) - Digital currencies Ethereum...  \n",
       "3  FILE PHOTO: Representation of the Ethereum vir...  \n",
       "4  NEW YORK (Reuters) - Institutional investors p...  "
      ],
      "text/html": "<div>\n<style scoped>\n    .dataframe tbody tr th:only-of-type {\n        vertical-align: middle;\n    }\n\n    .dataframe tbody tr th {\n        vertical-align: top;\n    }\n\n    .dataframe thead th {\n        text-align: right;\n    }\n</style>\n<table border=\"1\" class=\"dataframe\">\n  <thead>\n    <tr style=\"text-align: right;\">\n      <th></th>\n      <th>compound</th>\n      <th>negative</th>\n      <th>neutral</th>\n      <th>positive</th>\n      <th>text</th>\n    </tr>\n  </thead>\n  <tbody>\n    <tr>\n      <th>0</th>\n      <td>0.2144</td>\n      <td>0.0</td>\n      <td>0.947</td>\n      <td>0.053</td>\n      <td>PayPal is bringing its newly-announced support...</td>\n    </tr>\n    <tr>\n      <th>1</th>\n      <td>0.0000</td>\n      <td>0.0</td>\n      <td>1.000</td>\n      <td>0.000</td>\n      <td>FILE PHOTO: Representation of the Ethereum vir...</td>\n    </tr>\n    <tr>\n      <th>2</th>\n      <td>0.4215</td>\n      <td>0.0</td>\n      <td>0.912</td>\n      <td>0.088</td>\n      <td>LONDON (Reuters) - Digital currencies Ethereum...</td>\n    </tr>\n    <tr>\n      <th>3</th>\n      <td>0.0000</td>\n      <td>0.0</td>\n      <td>1.000</td>\n      <td>0.000</td>\n      <td>FILE PHOTO: Representation of the Ethereum vir...</td>\n    </tr>\n    <tr>\n      <th>4</th>\n      <td>0.1779</td>\n      <td>0.0</td>\n      <td>0.948</td>\n      <td>0.052</td>\n      <td>NEW YORK (Reuters) - Institutional investors p...</td>\n    </tr>\n  </tbody>\n</table>\n</div>"
     },
     "metadata": {},
     "execution_count": 236
    }
   ],
   "source": [
    "# Create the ethereum sentiment scores DataFrame\n",
    "# YOUR CODE HERE!\n",
    "ethereum_sentiments = []\n",
    "\n",
    "for article in ethereum_articles[\"articles\"]:\n",
    "    try:\n",
    "        text = article[\"content\"]\n",
    "        date = article[\"publishedAt\"][:10]\n",
    "        sentiment = analyzer.polarity_scores(text)\n",
    "        compound = sentiment[\"compound\"]\n",
    "        pos = sentiment[\"pos\"]\n",
    "        neu = sentiment[\"neu\"]\n",
    "        neg = sentiment[\"neg\"]\n",
    "        \n",
    "        ethereum_sentiments.append({\n",
    "            \"text\": text,\n",
    "            \"date\": date,\n",
    "            \"compound\": compound,\n",
    "            \"positive\": pos,\n",
    "            \"negative\": neg,\n",
    "            \"neutral\": neu\n",
    "            \n",
    "        })\n",
    "        \n",
    "    except AttributeError:\n",
    "        pass\n",
    "\n",
    "ethereum_df = pd.DataFrame(ethereum_sentiments)  \n",
    "\n",
    "cols = [\"compound\", \"negative\", \"neutral\", \"positive\", \"text\"]\n",
    "\n",
    "ethereum_df = ethereum_df[cols]\n",
    "\n",
    "ethereum_df.head()"
   ]
  },
  {
   "cell_type": "code",
   "execution_count": 237,
   "metadata": {},
   "outputs": [
    {
     "output_type": "execute_result",
     "data": {
      "text/plain": [
       "        compound   negative    neutral   positive\n",
       "count  19.000000  19.000000  19.000000  19.000000\n",
       "mean    0.135189   0.025737   0.913737   0.060526\n",
       "std     0.379635   0.066192   0.098593   0.065557\n",
       "min    -0.670500   0.000000   0.716000   0.000000\n",
       "25%     0.000000   0.000000   0.833500   0.000000\n",
       "50%     0.000000   0.000000   0.950000   0.050000\n",
       "75%     0.411700   0.000000   1.000000   0.102500\n",
       "max     0.765000   0.215000   1.000000   0.174000"
      ],
      "text/html": "<div>\n<style scoped>\n    .dataframe tbody tr th:only-of-type {\n        vertical-align: middle;\n    }\n\n    .dataframe tbody tr th {\n        vertical-align: top;\n    }\n\n    .dataframe thead th {\n        text-align: right;\n    }\n</style>\n<table border=\"1\" class=\"dataframe\">\n  <thead>\n    <tr style=\"text-align: right;\">\n      <th></th>\n      <th>compound</th>\n      <th>negative</th>\n      <th>neutral</th>\n      <th>positive</th>\n    </tr>\n  </thead>\n  <tbody>\n    <tr>\n      <th>count</th>\n      <td>19.000000</td>\n      <td>19.000000</td>\n      <td>19.000000</td>\n      <td>19.000000</td>\n    </tr>\n    <tr>\n      <th>mean</th>\n      <td>0.135189</td>\n      <td>0.025737</td>\n      <td>0.913737</td>\n      <td>0.060526</td>\n    </tr>\n    <tr>\n      <th>std</th>\n      <td>0.379635</td>\n      <td>0.066192</td>\n      <td>0.098593</td>\n      <td>0.065557</td>\n    </tr>\n    <tr>\n      <th>min</th>\n      <td>-0.670500</td>\n      <td>0.000000</td>\n      <td>0.716000</td>\n      <td>0.000000</td>\n    </tr>\n    <tr>\n      <th>25%</th>\n      <td>0.000000</td>\n      <td>0.000000</td>\n      <td>0.833500</td>\n      <td>0.000000</td>\n    </tr>\n    <tr>\n      <th>50%</th>\n      <td>0.000000</td>\n      <td>0.000000</td>\n      <td>0.950000</td>\n      <td>0.050000</td>\n    </tr>\n    <tr>\n      <th>75%</th>\n      <td>0.411700</td>\n      <td>0.000000</td>\n      <td>1.000000</td>\n      <td>0.102500</td>\n    </tr>\n    <tr>\n      <th>max</th>\n      <td>0.765000</td>\n      <td>0.215000</td>\n      <td>1.000000</td>\n      <td>0.174000</td>\n    </tr>\n  </tbody>\n</table>\n</div>"
     },
     "metadata": {},
     "execution_count": 237
    }
   ],
   "source": [
    "# Describe the Bitcoin Sentiment\n",
    "# YOUR CODE HERE!\n",
    "bitcoin_df.describe()"
   ]
  },
  {
   "cell_type": "code",
   "execution_count": 238,
   "metadata": {},
   "outputs": [
    {
     "output_type": "execute_result",
     "data": {
      "text/plain": [
       "        compound   negative    neutral   positive\n",
       "count  20.000000  20.000000  20.000000  20.000000\n",
       "mean    0.151905   0.016800   0.921600   0.061600\n",
       "std     0.322903   0.052501   0.103898   0.078815\n",
       "min    -0.493900   0.000000   0.672000   0.000000\n",
       "25%     0.000000   0.000000   0.881500   0.000000\n",
       "50%     0.000000   0.000000   0.948000   0.052000\n",
       "75%     0.406800   0.000000   1.000000   0.095250\n",
       "max     0.877900   0.196000   1.000000   0.318000"
      ],
      "text/html": "<div>\n<style scoped>\n    .dataframe tbody tr th:only-of-type {\n        vertical-align: middle;\n    }\n\n    .dataframe tbody tr th {\n        vertical-align: top;\n    }\n\n    .dataframe thead th {\n        text-align: right;\n    }\n</style>\n<table border=\"1\" class=\"dataframe\">\n  <thead>\n    <tr style=\"text-align: right;\">\n      <th></th>\n      <th>compound</th>\n      <th>negative</th>\n      <th>neutral</th>\n      <th>positive</th>\n    </tr>\n  </thead>\n  <tbody>\n    <tr>\n      <th>count</th>\n      <td>20.000000</td>\n      <td>20.000000</td>\n      <td>20.000000</td>\n      <td>20.000000</td>\n    </tr>\n    <tr>\n      <th>mean</th>\n      <td>0.151905</td>\n      <td>0.016800</td>\n      <td>0.921600</td>\n      <td>0.061600</td>\n    </tr>\n    <tr>\n      <th>std</th>\n      <td>0.322903</td>\n      <td>0.052501</td>\n      <td>0.103898</td>\n      <td>0.078815</td>\n    </tr>\n    <tr>\n      <th>min</th>\n      <td>-0.493900</td>\n      <td>0.000000</td>\n      <td>0.672000</td>\n      <td>0.000000</td>\n    </tr>\n    <tr>\n      <th>25%</th>\n      <td>0.000000</td>\n      <td>0.000000</td>\n      <td>0.881500</td>\n      <td>0.000000</td>\n    </tr>\n    <tr>\n      <th>50%</th>\n      <td>0.000000</td>\n      <td>0.000000</td>\n      <td>0.948000</td>\n      <td>0.052000</td>\n    </tr>\n    <tr>\n      <th>75%</th>\n      <td>0.406800</td>\n      <td>0.000000</td>\n      <td>1.000000</td>\n      <td>0.095250</td>\n    </tr>\n    <tr>\n      <th>max</th>\n      <td>0.877900</td>\n      <td>0.196000</td>\n      <td>1.000000</td>\n      <td>0.318000</td>\n    </tr>\n  </tbody>\n</table>\n</div>"
     },
     "metadata": {},
     "execution_count": 238
    }
   ],
   "source": [
    "# Describe the Ethereum Sentiment\n",
    "# YOUR CODE HERE!\n",
    "ethereum_df.describe()"
   ]
  },
  {
   "cell_type": "markdown",
   "metadata": {},
   "source": [
    "### Questions:\n",
    "\n",
    "Q: Which coin had the highest mean positive score?\n",
    "\n",
    "A: Ethereum had a higher positive mean score than bitcoin.\n",
    "\n",
    "Q: Which coin had the highest compound score?\n",
    "\n",
    "A: Ethereum had a higher compound score than bitcoin.\n",
    "\n",
    "Q. Which coin had the highest positive score?\n",
    "\n",
    "A: Ethereum had a higher positive score than bitcoin."
   ]
  },
  {
   "cell_type": "markdown",
   "metadata": {},
   "source": [
    "---"
   ]
  },
  {
   "cell_type": "markdown",
   "metadata": {},
   "source": [
    "# Tokenizer\n",
    "\n",
    "In this section, you will use NLTK and Python to tokenize the text for each coin. Be sure to:\n",
    "1. Lowercase each word\n",
    "2. Remove Punctuation\n",
    "3. Remove Stopwords"
   ]
  },
  {
   "cell_type": "code",
   "execution_count": 239,
   "metadata": {},
   "outputs": [],
   "source": [
    "from nltk.tokenize import word_tokenize, sent_tokenize\n",
    "from nltk.corpus import stopwords\n",
    "from nltk.stem import WordNetLemmatizer, PorterStemmer\n",
    "from string import punctuation\n",
    "import re"
   ]
  },
  {
   "cell_type": "code",
   "execution_count": 240,
   "metadata": {},
   "outputs": [],
   "source": [
    "lemmatizer = WordNetLemmatizer()"
   ]
  },
  {
   "cell_type": "code",
   "execution_count": 241,
   "metadata": {},
   "outputs": [],
   "source": [
    "# Expand the default stopwords list if necessary\n",
    "# YOUR CODE HERE!\n",
    "import string"
   ]
  },
  {
   "cell_type": "code",
   "execution_count": 242,
   "metadata": {},
   "outputs": [],
   "source": [
    "# Complete the tokenizer function\n",
    "def tokenizer(text):\n",
    "    \"\"\"Tokenizes text.\"\"\"\n",
    "    sw = set(stopwords.words('english'))\n",
    "\n",
    "    regex = re.compile(\"[^a-zA-Z ]\")\n",
    "\n",
    "    re_clean = regex.sub(' ', text)\n",
    "\n",
    "    words = word_tokenize(re_clean)\n",
    "\n",
    "    lem = [lemmatizer.lemmatize(word) for word in words]\n",
    "\n",
    "    output = [word.lower() for word in words if word.lower() not in sw]\n",
    "\n",
    "    return output\n"
   ]
  },
  {
   "cell_type": "code",
   "execution_count": 243,
   "metadata": {},
   "outputs": [
    {
     "output_type": "execute_result",
     "data": {
      "text/plain": [
       "   compound  negative  neutral  positive  \\\n",
       "0   -0.6705     0.199    0.737     0.064   \n",
       "1    0.6369     0.000    0.838     0.162   \n",
       "2    0.2144     0.000    0.947     0.053   \n",
       "3    0.2023     0.000    0.950     0.050   \n",
       "4    0.0000     0.000    1.000     0.000   \n",
       "\n",
       "                                                text  \\\n",
       "0  A former Microsoft software engineer from Ukra...   \n",
       "1  Visa has partnered with cryptocurrency startup...   \n",
       "2  PayPal is bringing its newly-announced support...   \n",
       "3  In November 2017, after an absolutely massive,...   \n",
       "4  Unlike ‘conventional’ cryptocurrencies, a cent...   \n",
       "\n",
       "                                              tokens  \n",
       "0  [former, microsoft, software, engineer, ukrain...  \n",
       "1  [visa, partnered, cryptocurrency, startup, blo...  \n",
       "2  [paypal, bringing, newly, announced, support, ...  \n",
       "3  [november, absolutely, massive, two, month, ra...  \n",
       "4  [unlike, conventional, cryptocurrencies, centr...  "
      ],
      "text/html": "<div>\n<style scoped>\n    .dataframe tbody tr th:only-of-type {\n        vertical-align: middle;\n    }\n\n    .dataframe tbody tr th {\n        vertical-align: top;\n    }\n\n    .dataframe thead th {\n        text-align: right;\n    }\n</style>\n<table border=\"1\" class=\"dataframe\">\n  <thead>\n    <tr style=\"text-align: right;\">\n      <th></th>\n      <th>compound</th>\n      <th>negative</th>\n      <th>neutral</th>\n      <th>positive</th>\n      <th>text</th>\n      <th>tokens</th>\n    </tr>\n  </thead>\n  <tbody>\n    <tr>\n      <th>0</th>\n      <td>-0.6705</td>\n      <td>0.199</td>\n      <td>0.737</td>\n      <td>0.064</td>\n      <td>A former Microsoft software engineer from Ukra...</td>\n      <td>[former, microsoft, software, engineer, ukrain...</td>\n    </tr>\n    <tr>\n      <th>1</th>\n      <td>0.6369</td>\n      <td>0.000</td>\n      <td>0.838</td>\n      <td>0.162</td>\n      <td>Visa has partnered with cryptocurrency startup...</td>\n      <td>[visa, partnered, cryptocurrency, startup, blo...</td>\n    </tr>\n    <tr>\n      <th>2</th>\n      <td>0.2144</td>\n      <td>0.000</td>\n      <td>0.947</td>\n      <td>0.053</td>\n      <td>PayPal is bringing its newly-announced support...</td>\n      <td>[paypal, bringing, newly, announced, support, ...</td>\n    </tr>\n    <tr>\n      <th>3</th>\n      <td>0.2023</td>\n      <td>0.000</td>\n      <td>0.950</td>\n      <td>0.050</td>\n      <td>In November 2017, after an absolutely massive,...</td>\n      <td>[november, absolutely, massive, two, month, ra...</td>\n    </tr>\n    <tr>\n      <th>4</th>\n      <td>0.0000</td>\n      <td>0.000</td>\n      <td>1.000</td>\n      <td>0.000</td>\n      <td>Unlike ‘conventional’ cryptocurrencies, a cent...</td>\n      <td>[unlike, conventional, cryptocurrencies, centr...</td>\n    </tr>\n  </tbody>\n</table>\n</div>"
     },
     "metadata": {},
     "execution_count": 243
    }
   ],
   "source": [
    "# Create a new tokens column for bitcoin\n",
    "# YOUR CODE HERE!\n",
    "bitcoin_df[\"tokens\"] = bitcoin_df[\"text\"].apply(tokenizer)\n",
    "bitcoin_df.head()"
   ]
  },
  {
   "cell_type": "code",
   "execution_count": 244,
   "metadata": {},
   "outputs": [
    {
     "output_type": "execute_result",
     "data": {
      "text/plain": [
       "   compound  negative  neutral  positive  \\\n",
       "0    0.2144       0.0    0.947     0.053   \n",
       "1    0.0000       0.0    1.000     0.000   \n",
       "2    0.4215       0.0    0.912     0.088   \n",
       "3    0.0000       0.0    1.000     0.000   \n",
       "4    0.1779       0.0    0.948     0.052   \n",
       "\n",
       "                                                text  \\\n",
       "0  PayPal is bringing its newly-announced support...   \n",
       "1  FILE PHOTO: Representation of the Ethereum vir...   \n",
       "2  LONDON (Reuters) - Digital currencies Ethereum...   \n",
       "3  FILE PHOTO: Representation of the Ethereum vir...   \n",
       "4  NEW YORK (Reuters) - Institutional investors p...   \n",
       "\n",
       "                                              tokens  \n",
       "0  [paypal, bringing, newly, announced, support, ...  \n",
       "1  [file, photo, representation, ethereum, virtua...  \n",
       "2  [london, reuters, digital, currencies, ethereu...  \n",
       "3  [file, photo, representation, ethereum, virtua...  \n",
       "4  [new, york, reuters, institutional, investors,...  "
      ],
      "text/html": "<div>\n<style scoped>\n    .dataframe tbody tr th:only-of-type {\n        vertical-align: middle;\n    }\n\n    .dataframe tbody tr th {\n        vertical-align: top;\n    }\n\n    .dataframe thead th {\n        text-align: right;\n    }\n</style>\n<table border=\"1\" class=\"dataframe\">\n  <thead>\n    <tr style=\"text-align: right;\">\n      <th></th>\n      <th>compound</th>\n      <th>negative</th>\n      <th>neutral</th>\n      <th>positive</th>\n      <th>text</th>\n      <th>tokens</th>\n    </tr>\n  </thead>\n  <tbody>\n    <tr>\n      <th>0</th>\n      <td>0.2144</td>\n      <td>0.0</td>\n      <td>0.947</td>\n      <td>0.053</td>\n      <td>PayPal is bringing its newly-announced support...</td>\n      <td>[paypal, bringing, newly, announced, support, ...</td>\n    </tr>\n    <tr>\n      <th>1</th>\n      <td>0.0000</td>\n      <td>0.0</td>\n      <td>1.000</td>\n      <td>0.000</td>\n      <td>FILE PHOTO: Representation of the Ethereum vir...</td>\n      <td>[file, photo, representation, ethereum, virtua...</td>\n    </tr>\n    <tr>\n      <th>2</th>\n      <td>0.4215</td>\n      <td>0.0</td>\n      <td>0.912</td>\n      <td>0.088</td>\n      <td>LONDON (Reuters) - Digital currencies Ethereum...</td>\n      <td>[london, reuters, digital, currencies, ethereu...</td>\n    </tr>\n    <tr>\n      <th>3</th>\n      <td>0.0000</td>\n      <td>0.0</td>\n      <td>1.000</td>\n      <td>0.000</td>\n      <td>FILE PHOTO: Representation of the Ethereum vir...</td>\n      <td>[file, photo, representation, ethereum, virtua...</td>\n    </tr>\n    <tr>\n      <th>4</th>\n      <td>0.1779</td>\n      <td>0.0</td>\n      <td>0.948</td>\n      <td>0.052</td>\n      <td>NEW YORK (Reuters) - Institutional investors p...</td>\n      <td>[new, york, reuters, institutional, investors,...</td>\n    </tr>\n  </tbody>\n</table>\n</div>"
     },
     "metadata": {},
     "execution_count": 244
    }
   ],
   "source": [
    "# Create a new tokens column for ethereum\n",
    "# YOUR CODE HERE!\n",
    "ethereum_df[\"tokens\"] = ethereum_df[\"text\"].apply(tokenizer)\n",
    "ethereum_df.head()"
   ]
  },
  {
   "cell_type": "markdown",
   "metadata": {},
   "source": [
    "---"
   ]
  },
  {
   "cell_type": "markdown",
   "metadata": {},
   "source": [
    "# NGrams and Frequency Analysis\n",
    "\n",
    "In this section you will look at the ngrams and word frequency for each coin. \n",
    "\n",
    "1. Use NLTK to produce the n-grams for N = 2. \n",
    "2. List the top 10 words for each coin. "
   ]
  },
  {
   "cell_type": "code",
   "execution_count": 245,
   "metadata": {},
   "outputs": [],
   "source": [
    "from collections import Counter\n",
    "from nltk import ngrams"
   ]
  },
  {
   "cell_type": "code",
   "execution_count": 246,
   "metadata": {},
   "outputs": [],
   "source": [
    "# Generate the Bitcoin N-grams where N=2\n",
    "# YOUR CODE HERE!"
   ]
  },
  {
   "cell_type": "code",
   "execution_count": 247,
   "metadata": {},
   "outputs": [],
   "source": [
    "# Generate the Ethereum N-grams where N=2\n",
    "# YOUR CODE HERE!"
   ]
  },
  {
   "cell_type": "code",
   "execution_count": 248,
   "metadata": {},
   "outputs": [],
   "source": [
    "# Use the token_count function to generate the top 10 words from each coin\n",
    "def token_count(tokens, N=10):\n",
    "    \"\"\"Returns the top N tokens from the frequency count\"\"\"\n",
    "    return Counter(tokens).most_common(N)"
   ]
  },
  {
   "cell_type": "code",
   "execution_count": 249,
   "metadata": {},
   "outputs": [],
   "source": [
    "# Get the top 10 words for Bitcoin\n",
    "# YOUR CODE HERE!"
   ]
  },
  {
   "cell_type": "code",
   "execution_count": 250,
   "metadata": {},
   "outputs": [],
   "source": [
    "# Get the top 10 words for Ethereum\n",
    "# YOUR CODE HERE!"
   ]
  },
  {
   "cell_type": "markdown",
   "metadata": {},
   "source": [
    "# Word Clouds\n",
    "\n",
    "In this section, you will generate word clouds for each coin to summarize the news for each coin"
   ]
  },
  {
   "cell_type": "code",
   "execution_count": 251,
   "metadata": {},
   "outputs": [],
   "source": [
    "from wordcloud import WordCloud\n",
    "import matplotlib.pyplot as plt\n",
    "plt.style.use('seaborn-whitegrid')\n",
    "import matplotlib as mpl\n",
    "mpl.rcParams['figure.figsize'] = [20.0, 10.0]"
   ]
  },
  {
   "cell_type": "code",
   "execution_count": 252,
   "metadata": {},
   "outputs": [],
   "source": [
    "# Generate the Bitcoin word cloud\n",
    "# YOUR CODE HERE!"
   ]
  },
  {
   "cell_type": "code",
   "execution_count": 253,
   "metadata": {},
   "outputs": [],
   "source": [
    "# Generate the Ethereum word cloud\n",
    "# YOUR CODE HERE!"
   ]
  },
  {
   "cell_type": "markdown",
   "metadata": {},
   "source": [
    "# Named Entity Recognition\n",
    "\n",
    "In this section, you will build a named entity recognition model for both coins and visualize the tags using SpaCy."
   ]
  },
  {
   "cell_type": "code",
   "execution_count": 254,
   "metadata": {},
   "outputs": [],
   "source": [
    "import spacy\n",
    "from spacy import displacy"
   ]
  },
  {
   "cell_type": "code",
   "execution_count": 255,
   "metadata": {},
   "outputs": [],
   "source": [
    "# Optional - download a language model for SpaCy\n",
    "# !python -m spacy download en_core_web_sm"
   ]
  },
  {
   "cell_type": "code",
   "execution_count": 256,
   "metadata": {},
   "outputs": [],
   "source": [
    "# Load the spaCy model\n",
    "nlp = spacy.load('en_core_web_sm')"
   ]
  },
  {
   "cell_type": "markdown",
   "metadata": {},
   "source": [
    "## Bitcoin NER"
   ]
  },
  {
   "cell_type": "code",
   "execution_count": 257,
   "metadata": {},
   "outputs": [],
   "source": [
    "# Concatenate all of the bitcoin text together\n",
    "# YOUR CODE HERE!"
   ]
  },
  {
   "cell_type": "code",
   "execution_count": 258,
   "metadata": {},
   "outputs": [],
   "source": [
    "# Run the NER processor on all of the text\n",
    "# YOUR CODE HERE!\n",
    "\n",
    "# Add a title to the document\n",
    "# YOUR CODE HERE!"
   ]
  },
  {
   "cell_type": "code",
   "execution_count": 259,
   "metadata": {},
   "outputs": [],
   "source": [
    "# Render the visualization\n",
    "# YOUR CODE HERE!"
   ]
  },
  {
   "cell_type": "code",
   "execution_count": 260,
   "metadata": {},
   "outputs": [],
   "source": [
    "# List all Entities\n",
    "# YOUR CODE HERE!"
   ]
  },
  {
   "cell_type": "markdown",
   "metadata": {},
   "source": [
    "---"
   ]
  },
  {
   "cell_type": "markdown",
   "metadata": {},
   "source": [
    "## Ethereum NER"
   ]
  },
  {
   "cell_type": "code",
   "execution_count": 261,
   "metadata": {},
   "outputs": [],
   "source": [
    "# Concatenate all of the bitcoin text together\n",
    "# YOUR CODE HERE!"
   ]
  },
  {
   "cell_type": "code",
   "execution_count": 262,
   "metadata": {},
   "outputs": [],
   "source": [
    "# Run the NER processor on all of the text\n",
    "# YOUR CODE HERE!\n",
    "\n",
    "# Add a title to the document\n",
    "# YOUR CODE HERE!"
   ]
  },
  {
   "cell_type": "code",
   "execution_count": 263,
   "metadata": {},
   "outputs": [],
   "source": [
    "# Render the visualization\n",
    "# YOUR CODE HERE!"
   ]
  },
  {
   "cell_type": "code",
   "execution_count": 264,
   "metadata": {},
   "outputs": [],
   "source": [
    "# List all Entities\n",
    "# YOUR CODE HERE!"
   ]
  }
 ],
 "metadata": {
  "file_extension": ".py",
  "kernelspec": {
   "name": "python3",
   "display_name": "Python 3.7.9 64-bit ('base2': conda)",
   "metadata": {
    "interpreter": {
     "hash": "73f1f524b0acba47992ffd8f83b72f373e11b5b8b725181591c7f0bda5344930"
    }
   }
  },
  "language_info": {
   "codemirror_mode": {
    "name": "ipython",
    "version": 3
   },
   "file_extension": ".py",
   "mimetype": "text/x-python",
   "name": "python",
   "nbconvert_exporter": "python",
   "pygments_lexer": "ipython3",
   "version": "3.7.9-final"
  },
  "mimetype": "text/x-python",
  "name": "python",
  "npconvert_exporter": "python",
  "pygments_lexer": "ipython3",
  "version": 3
 },
 "nbformat": 4,
 "nbformat_minor": 4
}